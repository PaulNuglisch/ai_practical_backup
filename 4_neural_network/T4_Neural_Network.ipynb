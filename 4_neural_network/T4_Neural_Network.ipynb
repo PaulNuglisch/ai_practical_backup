{
 "cells": [
  {
   "cell_type": "markdown",
   "id": "f0924237",
   "metadata": {},
   "source": [
    "# Task 4.1: Perceptron model in python\n",
    "## Introduction\n",
    "In this task you shall model a single perceptron in python and understand how it works. The task of the perceptron will be to predict the outcome of an unknown logical circuit. However, there is some training/target data available from measurements that were made.\n",
    "\n",
    "Write a python class “perceptron” by implementing the following member functions:\n",
    "\n",
    "    def __init__(self): initializes the member variable self.synaptic_weights with random values\n",
    "\n",
    "    def sigmoid(self,x) : sigmoid function\n",
    "\n",
    "    def sigmoid_derivative(self,x) : derivative of sigmoid function\n",
    "\n",
    "    def think(self, inputs): one “thought-step” of the perceptron for the given inputs. Returns outputs.\n",
    "\n",
    "    def train(self, inputs, targets, iterations) : the training loop. Shall be exectuted “iterations”-times to train the network. Does contain backpropagation and weight adjustments.\n",
    "\n",
    "    if __name__ == “__main__”: the main function. creates one instance of class perceptron, trains it with the training data and asks the user to enter values for the signals I1, I2 and I3. Prints out perceptron’s belief afterwards\n"
   ]
  },
  {
   "cell_type": "code",
   "execution_count": 1,
   "id": "880e592f",
   "metadata": {},
   "outputs": [],
   "source": [
    "import numpy as np\n",
    "\n",
    "class Perceptron():\n",
    "    def __init__(self):\n",
    "        self.synaptic_weights = np.random.rand(3)\n",
    "    \n",
    "    def sigmoid(self, x):\n",
    "        return 1.0 / (1.0 + np.exp(-x))\n",
    "\n",
    "    def sigmoid_derivative(self, x):\n",
    "        return self.sigmoid(x) * ( 1.0 - self.sigmoid(x))\n",
    "\n",
    "    def sigmoid_derivative_faster(self, output):\n",
    "        return output * (1.0 - output)\n",
    "\n",
    "    def think(self, inputs):\n",
    "        return self.sigmoid(np.dot(inputs, self.synaptic_weights))\n",
    "\n",
    "    def train(self, inputs, targets, iterations):\n",
    "        for _ in range(iterations):\n",
    "            if len(inputs) != len(targets):\n",
    "                print(\"Error! Dimension of Inputs is not equal with dimension of Targets.\")\n",
    "            for i in range(len(inputs)):\n",
    "                output = self.think(inputs[i])\n",
    "                e_out = targets[i] - output\n",
    "                # self.synaptic_weights += np.dot(e_out * self.sigmoid_derivative(inputs[i]), np.transpose(inputs[i]))\n",
    "                self.synaptic_weights += np.dot(e_out * self.sigmoid_derivative_faster(output), inputs[i].T)"
   ]
  },
  {
   "cell_type": "markdown",
   "id": "42a31a5d",
   "metadata": {},
   "source": [
    "### Training the Perceptron"
   ]
  },
  {
   "cell_type": "code",
   "execution_count": 2,
   "id": "d8c0622c",
   "metadata": {},
   "outputs": [
    {
     "name": "stdout",
     "output_type": "stream",
     "text": [
      "Synaptic Weights before Training:\n",
      "[0.49604426 0.0681096  0.69216116]\n",
      "Synaptic Weights after Training:\n",
      "[ 9.16147028  0.3298953  -4.91295015]\n"
     ]
    }
   ],
   "source": [
    "p = Perceptron()\n",
    "print(\"Synaptic Weights before Training:\")\n",
    "print(p.synaptic_weights)\n",
    "\n",
    "train_data = np.array([[0, 0, 1],\n",
    "                       [1, 1, 1],\n",
    "                       [1, 0, 0],\n",
    "                       [0, 1, 1]])\n",
    "target_data = np.array([0, 1, 1, 0])\n",
    "p.train(train_data, target_data, 10000)\n",
    "\n",
    "print(\"Synaptic Weights after Training:\")\n",
    "print(p.synaptic_weights)"
   ]
  },
  {
   "cell_type": "markdown",
   "id": "5df7f6e4",
   "metadata": {},
   "source": [
    "### Test Prediction"
   ]
  },
  {
   "cell_type": "code",
   "execution_count": 3,
   "id": "e99c3d0d",
   "metadata": {},
   "outputs": [
    {
     "name": "stdout",
     "output_type": "stream",
     "text": [
      "The Perceptron thinks the output of the logical circuit will be:\n",
      "Prediction: 1\n",
      "Actual output: 0.9998950026324589\n"
     ]
    }
   ],
   "source": [
    "solution = p.think([1, 0, 0])\n",
    "\n",
    "print(\"The Perceptron thinks the output of the logical circuit will be:\")\n",
    "print(\"Prediction:\", 1 if solution >= 0.5 else 0)\n",
    "print(\"Actual output:\", solution)"
   ]
  },
  {
   "cell_type": "markdown",
   "id": "9ee32c5a",
   "metadata": {},
   "source": [
    "### User Programm"
   ]
  },
  {
   "cell_type": "code",
   "execution_count": 4,
   "id": "df927cb2",
   "metadata": {},
   "outputs": [
    {
     "name": "stdout",
     "output_type": "stream",
     "text": [
      "Synaptic Weights before Training:\n",
      "[0.28479293 0.6554685  0.9871539 ]\n",
      "Synaptic Weights after Training:\n",
      "[ 4.17542493  0.22592038 -2.33726291]\n",
      "Enter your 3 Input Values (0, 1):\n",
      "Predict the outcome for [ 0 , 0 , 1 ] ...\n",
      "Prediction: 0\n",
      "Actual output: 0.08808352315450158\n"
     ]
    }
   ],
   "source": [
    "if __name__ == \"__main__\":\n",
    "\n",
    "    iterations = int(input(\"Enter number of iterations for Perceptron Training ?>\"))\n",
    "\n",
    "    perceptron = Perceptron()\n",
    "    print(\"Synaptic Weights before Training:\")\n",
    "    print(perceptron.synaptic_weights)\n",
    "\n",
    "    perceptron.train(train_data, target_data, iterations)\n",
    "\n",
    "    print(\"Synaptic Weights after Training:\")\n",
    "    print(perceptron.synaptic_weights)\n",
    "\n",
    "    print(\"Enter your 3 Input Values (0, 1):\")\n",
    "    I1 = int(input(\"I1 ?>\"))\n",
    "    I2 = int(input(\"I2 ?>\"))\n",
    "    I3 = int(input(\"I3 ?>\"))\n",
    "    print(\"Predict the outcome for [\", I1, \",\", I2, \",\", I3, \"] ...\")\n",
    "\n",
    "    solution = perceptron.think([I1, I2, I3])\n",
    "\n",
    "    print(\"Prediction:\", 1 if solution >= 0.5 else 0)\n",
    "    print(\"Actual output:\", solution)"
   ]
  },
  {
   "cell_type": "markdown",
   "id": "f263c10b",
   "metadata": {},
   "source": [
    "# Task 4.2: Feed-Forward-Network for recognition of handwritten numbers"
   ]
  },
  {
   "cell_type": "code",
   "execution_count": 5,
   "id": "365f83bd",
   "metadata": {},
   "outputs": [],
   "source": [
    "class FeedForwardNetwork:\n",
    "\n",
    "    def __init__(self, inputNodes, hiddenNodes, outputNodes, learningRate):\n",
    "        self.input_weights = np.random.rand(inputNodes, hiddenNodes) - 0.5\n",
    "        self.hidden_weigths = np.random.rand(hiddenNodes, outputNodes) - 0.5\n",
    "        self.learning_rate = learningRate\n",
    "\n",
    "    def sigmoid(self, x):\n",
    "        return 1.0 / (1.0 + np.exp(-x))\n",
    "\n",
    "    def sigmoid_derivative(self, o):\n",
    "        return o * (1.0 - o)\n",
    "\n",
    "    def think(self, inputs):\n",
    "        hidden_output = self.sigmoid(np.dot(inputs, self.input_weights))\n",
    "        return self.sigmoid(np.dot(hidden_output, self.hidden_weigths))\n",
    "\n",
    "    def train(self, inputs, targets, iterations):\n",
    "        for _ in range(iterations):\n",
    "            for i in range(len(inputs)):\n",
    "                hidden_output = self.sigmoid(np.dot(inputs[i], self.input_weights))\n",
    "                final_output = self.sigmoid(np.dot(hidden_output, self.hidden_weigths))\n",
    "\n",
    "                error_out = targets[i] - final_output\n",
    "                error_hidden = np.dot(self.hidden_weigths, error_out)\n",
    "\n",
    "                delta_who = np.outer(hidden_output, error_out * self.sigmoid_derivative(final_output))\n",
    "                delta_wih = np.outer(inputs[i], error_hidden * self.sigmoid_derivative(hidden_output))\n",
    "\n",
    "                self.hidden_weigths += self.learning_rate * delta_who\n",
    "                self.input_weights  += self.learning_rate * delta_wih"
   ]
  },
  {
   "cell_type": "markdown",
   "id": "59be4b7d",
   "metadata": {},
   "source": [
    "## Main-Programm"
   ]
  },
  {
   "cell_type": "code",
   "execution_count": 8,
   "id": "9c0cf498",
   "metadata": {},
   "outputs": [
    {
     "name": "stdout",
     "output_type": "stream",
     "text": [
      "read Images from CSV-File ...\n",
      "Training the Feed-Forward-Network ( 100 times) ...\n",
      "plotting images ...\n"
     ]
    },
    {
     "data": {
      "image/png": "[encoded data removed]",
      "text/plain": [
       "<Figure size 100x100 with 1 Axes>"
      ]
     },
     "metadata": {},
     "output_type": "display_data"
    },
    {
     "name": "stdout",
     "output_type": "stream",
     "text": [
      "Prediction:  7\n"
     ]
    },
    {
     "data": {
      "image/png": "[encoded data removed]",
      "text/plain": [
       "<Figure size 100x100 with 1 Axes>"
      ]
     },
     "metadata": {},
     "output_type": "display_data"
    },
    {
     "name": "stdout",
     "output_type": "stream",
     "text": [
      "Prediction:  2\n"
     ]
    },
    {
     "data": {
      "image/png": "[encoded data removed]",
      "text/plain": [
       "<Figure size 100x100 with 1 Axes>"
      ]
     },
     "metadata": {},
     "output_type": "display_data"
    },
    {
     "name": "stdout",
     "output_type": "stream",
     "text": [
      "Prediction:  1\n"
     ]
    },
    {
     "data": {
      "image/png": "[encoded data removed]",
      "text/plain": [
       "<Figure size 100x100 with 1 Axes>"
      ]
     },
     "metadata": {},
     "output_type": "display_data"
    },
    {
     "name": "stdout",
     "output_type": "stream",
     "text": [
      "Prediction:  0\n"
     ]
    },
    {
     "data": {
      "image/png": "[encoded data removed]",
      "text/plain": [
       "<Figure size 100x100 with 1 Axes>"
      ]
     },
     "metadata": {},
     "output_type": "display_data"
    },
    {
     "name": "stdout",
     "output_type": "stream",
     "text": [
      "Prediction:  4\n"
     ]
    },
    {
     "data": {
      "image/png": "[encoded data removed]",
      "text/plain": [
       "<Figure size 100x100 with 1 Axes>"
      ]
     },
     "metadata": {},
     "output_type": "display_data"
    },
    {
     "name": "stdout",
     "output_type": "stream",
     "text": [
      "Prediction:  1\n"
     ]
    },
    {
     "data": {
      "image/png": "[encoded data removed]",
      "text/plain": [
       "<Figure size 100x100 with 1 Axes>"
      ]
     },
     "metadata": {},
     "output_type": "display_data"
    },
    {
     "name": "stdout",
     "output_type": "stream",
     "text": [
      "Prediction:  9\n"
     ]
    },
    {
     "data": {
      "image/png": "[encoded data removed]",
      "text/plain": [
       "<Figure size 100x100 with 1 Axes>"
      ]
     },
     "metadata": {},
     "output_type": "display_data"
    },
    {
     "name": "stdout",
     "output_type": "stream",
     "text": [
      "Prediction:  4\n"
     ]
    },
    {
     "data": {
      "image/png": "[encoded data removed]",
      "text/plain": [
       "<Figure size 100x100 with 1 Axes>"
      ]
     },
     "metadata": {},
     "output_type": "display_data"
    },
    {
     "name": "stdout",
     "output_type": "stream",
     "text": [
      "Prediction:  1\n"
     ]
    },
    {
     "data": {
      "image/png": "[encoded data removed]",
      "text/plain": [
       "<Figure size 100x100 with 1 Axes>"
      ]
     },
     "metadata": {},
     "output_type": "display_data"
    },
    {
     "name": "stdout",
     "output_type": "stream",
     "text": [
      "Prediction:  9\n",
      "------------------------------------------------------\n",
      "The Feed-Forwarding-Network predicted 70.0 % of the images correctly.\n"
     ]
    }
   ],
   "source": [
    "import matplotlib.pyplot as plt\n",
    "\n",
    "if __name__ == \"__main__\":\n",
    "\n",
    "    input_nodes = 784 #28*28 pixel\n",
    "    hidden_nodes = 200 #voodoo magic number\n",
    "    output_nodes = 10 #numbers from [0:9]\n",
    "\n",
    "    learning_rate = 0.3 #feel free to play around with\n",
    "\n",
    "    iterations = 100\n",
    "\n",
    "    print(\"read Images from CSV-File ...\")\n",
    "    training_data = np.loadtxt(\"mnist_train_100.csv\", delimiter=\",\", dtype='float64')\n",
    "    test_data = np.loadtxt(\"mnist_test_10.csv\", delimiter=\",\", dtype='float64')\n",
    "\n",
    "    training_inputs  = training_data[:, 1:] / 255.0 * 0.98 + 0.01\n",
    "    test_inputs = test_data[:, 1:] / 255.0 * 0.98 + 0.01\n",
    "    training_targets = np.array([[0.01 if  label != i else 0.99 for i in range(10)] for label in training_data[:, 0]])\n",
    "    test_targets = np.array([[0.01 if  label != i else 0.99 for i in range(10)] for label in test_data[:, 0]])\n",
    "\n",
    "    n = FeedForwardNetwork(input_nodes, hidden_nodes, output_nodes, learning_rate)\n",
    "    print(\"Training the Feed-Forward-Network (\", iterations, \"times) ...\")\n",
    "    n.train(training_inputs, training_targets, iterations)\n",
    "\n",
    "    correct_predictions = 0\n",
    "\n",
    "    print(\"plotting images ...\")\n",
    "    for i in range(len(test_data)):\n",
    "        image_array = test_inputs[i].reshape(28,28)\n",
    "        plt.imshow(image_array, cmap='Greys', interpolation='None')\n",
    "        plt.axis('off')\n",
    "        plt.rcParams['figure.figsize'] = [1, 1]\n",
    "        plt.show(block = False)\n",
    "\n",
    "        output = n.think(test_inputs[i])\n",
    "        expected = np.argmax(test_targets[i])\n",
    "        # expected = test_data[i, 0]\n",
    "        prediction = np.argmax(output)\n",
    "        if expected == prediction: correct_predictions += 1\n",
    "        #print(\"Expected:   \", expected)\n",
    "        print(\"Prediction: \", prediction)\n",
    "        #print(\"Probability:\", np.max(output) * 100, \"%\")\n",
    "    \n",
    "    print(\"------------------------------------------------------\")\n",
    "    print(\"The Feed-Forwarding-Network predicted\", correct_predictions / len(test_data) * 100, \"% of the images correctly.\")\n"
   ]
  },
  {
   "cell_type": "markdown",
   "id": "6301078d",
   "metadata": {},
   "source": [
    "### Creating my own Dataset for Testing\n",
    "\n",
    "I created 10 photos of my own handwriting that contain all possible numbers. Then I asked chatgpt to generate a python-script to convert these images into the csv-format we used earlier. The result is this file [my_mnist_test_10.csv](my_mnist_test_10.csv)."
   ]
  },
  {
   "cell_type": "code",
   "execution_count": null,
   "id": "a15d0d46",
   "metadata": {},
   "outputs": [
    {
     "name": "stdout",
     "output_type": "stream",
     "text": [
      "read Images from CSV-File ...\n",
      "plotting images ...\n"
     ]
    },
    {
     "data": {
      "image/png": "[encoded data removed]",
      "text/plain": [
       "<Figure size 100x100 with 1 Axes>"
      ]
     },
     "metadata": {},
     "output_type": "display_data"
    },
    {
     "name": "stdout",
     "output_type": "stream",
     "text": [
      "Expected:    0\n",
      "Prediction:  7\n",
      "Probability: 11.510841695861956 %\n"
     ]
    },
    {
     "data": {
      "image/png": "[encoded data removed]",
      "text/plain": [
       "<Figure size 100x100 with 1 Axes>"
      ]
     },
     "metadata": {},
     "output_type": "display_data"
    },
    {
     "name": "stdout",
     "output_type": "stream",
     "text": [
      "Expected:    1\n",
      "Prediction:  4\n",
      "Probability: 29.169403006967993 %\n"
     ]
    },
    {
     "data": {
      "image/png": "[encoded data removed]",
      "text/plain": [
       "<Figure size 100x100 with 1 Axes>"
      ]
     },
     "metadata": {},
     "output_type": "display_data"
    },
    {
     "name": "stdout",
     "output_type": "stream",
     "text": [
      "Expected:    2\n",
      "Prediction:  1\n",
      "Probability: 11.342933281767902 %\n"
     ]
    },
    {
     "data": {
      "image/png": "[encoded data removed]",
      "text/plain": [
       "<Figure size 100x100 with 1 Axes>"
      ]
     },
     "metadata": {},
     "output_type": "display_data"
    },
    {
     "name": "stdout",
     "output_type": "stream",
     "text": [
      "Expected:    3\n",
      "Prediction:  1\n",
      "Probability: 21.916435102386775 %\n"
     ]
    },
    {
     "data": {
      "image/png": "[encoded data removed]",
      "text/plain": [
       "<Figure size 100x100 with 1 Axes>"
      ]
     },
     "metadata": {},
     "output_type": "display_data"
    },
    {
     "name": "stdout",
     "output_type": "stream",
     "text": [
      "Expected:    4\n",
      "Prediction:  9\n",
      "Probability: 52.145018051257985 %\n"
     ]
    },
    {
     "data": {
      "image/png": "[encoded data removed]",
      "text/plain": [
       "<Figure size 100x100 with 1 Axes>"
      ]
     },
     "metadata": {},
     "output_type": "display_data"
    },
    {
     "name": "stdout",
     "output_type": "stream",
     "text": [
      "Expected:    5\n",
      "Prediction:  1\n",
      "Probability: 13.908058747549331 %\n"
     ]
    },
    {
     "data": {
      "image/png": "[encoded data removed]",
      "text/plain": [
       "<Figure size 100x100 with 1 Axes>"
      ]
     },
     "metadata": {},
     "output_type": "display_data"
    },
    {
     "name": "stdout",
     "output_type": "stream",
     "text": [
      "Expected:    6\n",
      "Prediction:  7\n",
      "Probability: 19.163109911779745 %\n"
     ]
    },
    {
     "data": {
      "image/png": "[encoded data removed]",
      "text/plain": [
       "<Figure size 100x100 with 1 Axes>"
      ]
     },
     "metadata": {},
     "output_type": "display_data"
    },
    {
     "name": "stdout",
     "output_type": "stream",
     "text": [
      "Expected:    7\n",
      "Prediction:  4\n",
      "Probability: 18.52744291061896 %\n"
     ]
    },
    {
     "data": {
      "image/png": "[encoded data removed]",
      "text/plain": [
       "<Figure size 100x100 with 1 Axes>"
      ]
     },
     "metadata": {},
     "output_type": "display_data"
    },
    {
     "name": "stdout",
     "output_type": "stream",
     "text": [
      "Expected:    8\n",
      "Prediction:  8\n",
      "Probability: 16.532324690308975 %\n"
     ]
    },
    {
     "data": {
      "image/png": "[encoded data removed]",
      "text/plain": [
       "<Figure size 100x100 with 1 Axes>"
      ]
     },
     "metadata": {},
     "output_type": "display_data"
    },
    {
     "name": "stdout",
     "output_type": "stream",
     "text": [
      "Expected:    9\n",
      "Prediction:  6\n",
      "Probability: 28.09916205761725 %\n",
      "------------------------------------------------------\n",
      "The Feed-Forwarding-Network predicted 10.0 % of the images correctly.\n",
      "correct predictions:   1\n",
      "incorrect predictions: 9\n",
      "Size of the Dataset:   10\n",
      "Size of the Dataset:   10\n"
     ]
    }
   ],
   "source": [
    "def test_network(test_data_file, plot_active):\n",
    "    print(\"read Images from CSV-File ...\")\n",
    "    test_data = np.loadtxt(test_data_file, delimiter=\",\", dtype='float64')\n",
    "\n",
    "    test_inputs = test_data[:, 1:] / 255.0 * 0.98 + 0.01\n",
    "    test_targets = np.array([[0.01 if  label != i else 0.99 for i in range(10)] for label in test_data[:, 0]])\n",
    "\n",
    "    correct_predictions = 0\n",
    "    incorrect_predictions = 0\n",
    "\n",
    "    print(\"plotting images ...\")\n",
    "    for i in range(len(test_data)):\n",
    "\n",
    "        output = n.think(test_inputs[i])\n",
    "        expected = np.argmax(test_targets[i])\n",
    "        # expected = test_data[i, 0]\n",
    "        prediction = np.argmax(output)\n",
    "        # if expected == prediction: correct_predictions += 1\n",
    "        if expected == prediction:\n",
    "            correct_predictions += 1 \n",
    "        else:\n",
    "            incorrect_predictions += 1\n",
    "        if plot_active:\n",
    "            image_array = test_inputs[i].reshape(28,28)\n",
    "            plt.imshow(image_array, cmap='Greys', interpolation='None')\n",
    "            plt.axis('off')\n",
    "            plt.rcParams['figure.figsize'] = [1, 1]\n",
    "            plt.show(block = False)\n",
    "            print(\"Expected:   \", expected)\n",
    "            print(\"Prediction: \", prediction)\n",
    "            print(\"Probability:\", np.max(output) * 100, \"%\")\n",
    "    \n",
    "    print(\"------------------------------------------------------\")\n",
    "    print(\"The Feed-Forwarding-Network predicted\", correct_predictions / len(test_data) * 100, \"% of the images correctly.\")\n",
    "    print(\"correct predictions:  \", correct_predictions)\n",
    "    print(\"incorrect predictions:\", incorrect_predictions)\n",
    "    print(\"Size of the Dataset:  \", incorrect_predictions + correct_predictions)\n",
    "    print(\"Size of the Dataset:  \", len(test_data))\n",
    "\n",
    "test_network(\"my_mnist_test_10.csv\", True)"
   ]
  },
  {
   "cell_type": "markdown",
   "id": "54b070ea",
   "metadata": {},
   "source": [
    "### Conclusion of Tests:\n",
    "My feed forwarding network predicted 40% of my data correctly. That is not quite satisfying my goals. I think my numbers take up less space than the original database which might be a reason for the 30% accuracy loss compared to the first test.\n",
    "\n",
    "I will train the network with the full mnist dataset to check the improvements in accuracy if we have a bigger training database."
   ]
  },
  {
   "cell_type": "code",
   "execution_count": null,
   "id": "6bbdeaa4",
   "metadata": {},
   "outputs": [
    {
     "name": "stdout",
     "output_type": "stream",
     "text": [
      "read Images from CSV-File ...\n",
      "Training the Feed-Forward-Network ( 100  iterations,  60000 images ) ...\n"
     ]
    }
   ],
   "source": [
    "INPUT_NODES = 784       # 28*28 pixel\n",
    "HIDDEN_NODES = 200      # voodoo magic number\n",
    "OUTPUT_NODES = 10       # numbers from [0:9]\n",
    "\n",
    "LEARNING_RATE = 0.3     # feel free to play around with\n",
    "\n",
    "ITERATIONS = 10\n",
    "\n",
    "def train_ffn(train_data_file, input_nodes, hidden_nodes, output_nodes, learning_rate, training_iterations) -> FeedForwardNetwork:\n",
    "\n",
    "    print(\"read Images from CSV-File ...\")\n",
    "    training_data = np.loadtxt(train_data_file, delimiter=\",\", dtype='float64')\n",
    "\n",
    "    training_inputs  = training_data[:, 1:] / 255.0 * 0.98 + 0.01\n",
    "    training_targets = np.array([[0.01 if  label != i else 0.99 for i in range(10)] for label in training_data[:, 0]])\n",
    "\n",
    "    network = FeedForwardNetwork(input_nodes, hidden_nodes, output_nodes, learning_rate)\n",
    "    print(\"Training the Feed-Forward-Network (\", iterations, \" iterations, \", len(training_data), \"images ) ...\")\n",
    "    network.train(training_inputs, training_targets, training_iterations)\n",
    "\n",
    "    return network\n",
    "n_alt = n\n",
    "n = train_ffn(\"mnist_train_full.csv\", INPUT_NODES, HIDDEN_NODES, OUTPUT_NODES, LEARNING_RATE, ITERATIONS)"
   ]
  },
  {
   "cell_type": "markdown",
   "id": "29e27e63",
   "metadata": {},
   "source": [
    "# A looong time later ...\n",
    "(Actually not that long)\n",
    "Now it is Time to check the benefit of Training with the entire MNIST Dataset.\n",
    "\n",
    "### 1. Test with my own handwriting\n",
    "Apparently our feed forwarding network rather likes to see us code"
   ]
  },
  {
   "cell_type": "code",
   "execution_count": null,
   "id": "a92e7753",
   "metadata": {},
   "outputs": [
    {
     "name": "stdout",
     "output_type": "stream",
     "text": [
      "read Images from CSV-File ...\n",
      "plotting images ...\n",
      "------------------------------------------------------\n",
      "The Feed-Forwarding-Network predicted 60.0 % of the images correctly.\n",
      "correct predictions:   6\n",
      "incorrect predictions: 4\n",
      "Size of the Dataset:   10\n",
      "Size of the Dataset:   10\n"
     ]
    }
   ],
   "source": [
    "test_network(\"my_mnist_test_10.csv\", False)"
   ]
  },
  {
   "cell_type": "markdown",
   "id": "c82b461c",
   "metadata": {},
   "source": [
    "### 2. Test with the official MNIST Test-data\n",
    "I will not plot the test-data.\n",
    "But 97% accuracy seems pretty solid."
   ]
  },
  {
   "cell_type": "code",
   "execution_count": null,
   "id": "7fd5a823",
   "metadata": {},
   "outputs": [
    {
     "name": "stdout",
     "output_type": "stream",
     "text": [
      "read Images from CSV-File ...\n",
      "plotting images ...\n",
      "------------------------------------------------------\n",
      "The Feed-Forwarding-Network predicted 97.295 % of the images correctly.\n",
      "correct predictions:   58377\n",
      "incorrect predictions: 1623\n",
      "Size of the Dataset:   60000\n",
      "Size of the Dataset:   60000\n"
     ]
    }
   ],
   "source": [
    "test_network(\"mnist_test_full.csv\", False)"
   ]
  },
  {
   "cell_type": "markdown",
   "id": "b8b5c23d",
   "metadata": {},
   "source": [
    "### 3. Test with the development test data\n",
    "The results are very good! Now we reach 100% accuracy with the development test."
   ]
  },
  {
   "cell_type": "code",
   "execution_count": null,
   "id": "36b7e20e",
   "metadata": {},
   "outputs": [
    {
     "name": "stdout",
     "output_type": "stream",
     "text": [
      "read Images from CSV-File ...\n",
      "plotting images ...\n",
      "------------------------------------------------------\n",
      "The Feed-Forwarding-Network predicted 100.0 % of the images correctly.\n",
      "correct predictions:   10\n",
      "incorrect predictions: 0\n",
      "Size of the Dataset:   10\n",
      "Size of the Dataset:   10\n"
     ]
    }
   ],
   "source": [
    "test_network(\"mnist_test_10.csv\", False)"
   ]
  }
 ],
 "metadata": {
  "kernelspec": {
   "display_name": "KI-Praktika-env",
   "language": "python",
   "name": "python3"
  },
  "language_info": {
   "codemirror_mode": {
    "name": "ipython",
    "version": 3
   },
   "file_extension": ".py",
   "mimetype": "text/x-python",
   "name": "python",
   "nbconvert_exporter": "python",
   "pygments_lexer": "ipython3",
   "version": "3.11.2"
  }
 },
 "nbformat": 4,
 "nbformat_minor": 5
}
